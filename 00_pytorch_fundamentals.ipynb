{
  "cells": [
    {
      "cell_type": "markdown",
      "id": "ba1092a7-9368-441c-8105-32effb43b197",
      "metadata": {
        "id": "ba1092a7-9368-441c-8105-32effb43b197"
      },
      "source": [
        "## 00. Pytorch Fundamentals"
      ]
    },
    {
      "cell_type": "markdown",
      "id": "ad95a241-999e-4340-a848-0314497dcd00",
      "metadata": {
        "id": "ad95a241-999e-4340-a848-0314497dcd00"
      },
      "source": [
        "## Resource notebook:https://www.learnpytorch.io/00_pytorch_fundamentals/"
      ]
    },
    {
      "cell_type": "code",
      "execution_count": 1,
      "id": "b01a4232-1037-4e53-8a06-e0d760138419",
      "metadata": {
        "colab": {
          "base_uri": "https://localhost:8080/"
        },
        "id": "b01a4232-1037-4e53-8a06-e0d760138419",
        "outputId": "9967bd2e-050b-42c0-bbcd-ebe9f26d15a8"
      },
      "outputs": [
        {
          "output_type": "stream",
          "name": "stdout",
          "text": [
            "2.6.0+cu124\n"
          ]
        }
      ],
      "source": [
        "import torch\n",
        "print(torch.__version__)"
      ]
    },
    {
      "cell_type": "markdown",
      "id": "ec3ef616-7ac3-4cf6-8831-1aa24697a8cb",
      "metadata": {
        "id": "ec3ef616-7ac3-4cf6-8831-1aa24697a8cb"
      },
      "source": [
        "## Introduction to Tensors\n",
        "\n",
        "### Creating tensors\n",
        "# PyTorch tensors are created using torch.Tensor()=https://pytorch.org/docs/stable/tensors.html"
      ]
    },
    {
      "cell_type": "code",
      "execution_count": 2,
      "id": "f874a42b-bf38-4f0c-95c8-20f2333f0f41",
      "metadata": {
        "colab": {
          "base_uri": "https://localhost:8080/"
        },
        "id": "f874a42b-bf38-4f0c-95c8-20f2333f0f41",
        "outputId": "43ce98ae-2d02-432f-83b9-153fefe9e644"
      },
      "outputs": [
        {
          "output_type": "execute_result",
          "data": {
            "text/plain": [
              "tensor(7)"
            ]
          },
          "metadata": {},
          "execution_count": 2
        }
      ],
      "source": [
        "#scalar\n",
        "scalar=torch.tensor(7)\n",
        "scalar"
      ]
    },
    {
      "cell_type": "code",
      "execution_count": 3,
      "id": "a9038216-d611-4df7-8967-24080d05c9ba",
      "metadata": {
        "colab": {
          "base_uri": "https://localhost:8080/"
        },
        "id": "a9038216-d611-4df7-8967-24080d05c9ba",
        "outputId": "7d33fc95-d933-4cbe-db1c-b619a2dc9f4b"
      },
      "outputs": [
        {
          "output_type": "execute_result",
          "data": {
            "text/plain": [
              "0"
            ]
          },
          "metadata": {},
          "execution_count": 3
        }
      ],
      "source": [
        "scalar.ndim"
      ]
    },
    {
      "cell_type": "code",
      "execution_count": 4,
      "id": "e84d5e60-ed76-4d80-8c8e-9d7e776206b0",
      "metadata": {
        "colab": {
          "base_uri": "https://localhost:8080/"
        },
        "id": "e84d5e60-ed76-4d80-8c8e-9d7e776206b0",
        "outputId": "1a4d9311-4678-4cec-ee79-2539129b6300"
      },
      "outputs": [
        {
          "output_type": "execute_result",
          "data": {
            "text/plain": [
              "7"
            ]
          },
          "metadata": {},
          "execution_count": 4
        }
      ],
      "source": [
        "#get tensor back as python int\n",
        "scalar.item()"
      ]
    },
    {
      "cell_type": "code",
      "execution_count": 5,
      "id": "a372d36c-9443-4e32-8446-245e3f0d0308",
      "metadata": {
        "colab": {
          "base_uri": "https://localhost:8080/"
        },
        "id": "a372d36c-9443-4e32-8446-245e3f0d0308",
        "outputId": "8792b3d9-f75f-480e-a20c-9c687b92c335"
      },
      "outputs": [
        {
          "output_type": "execute_result",
          "data": {
            "text/plain": [
              "tensor([7, 7, 7])"
            ]
          },
          "metadata": {},
          "execution_count": 5
        }
      ],
      "source": [
        "# Vector\n",
        "vector=torch.tensor([7,7,7])\n",
        "vector"
      ]
    },
    {
      "cell_type": "code",
      "execution_count": 6,
      "id": "b513007c-c212-43c7-8e08-35f9f0a43bc6",
      "metadata": {
        "colab": {
          "base_uri": "https://localhost:8080/"
        },
        "id": "b513007c-c212-43c7-8e08-35f9f0a43bc6",
        "outputId": "551e2ff1-57d0-4042-b6c9-a806b018344c"
      },
      "outputs": [
        {
          "output_type": "execute_result",
          "data": {
            "text/plain": [
              "1"
            ]
          },
          "metadata": {},
          "execution_count": 6
        }
      ],
      "source": [
        "vector.ndim"
      ]
    },
    {
      "cell_type": "code",
      "execution_count": 7,
      "id": "9560f5e0-f823-42e8-b711-f790a83cc92e",
      "metadata": {
        "colab": {
          "base_uri": "https://localhost:8080/"
        },
        "id": "9560f5e0-f823-42e8-b711-f790a83cc92e",
        "outputId": "71296f21-9ce7-44c2-a92e-d64bb26bcbc2"
      },
      "outputs": [
        {
          "output_type": "execute_result",
          "data": {
            "text/plain": [
              "torch.Size([3])"
            ]
          },
          "metadata": {},
          "execution_count": 7
        }
      ],
      "source": [
        "vector.shape"
      ]
    },
    {
      "cell_type": "code",
      "execution_count": 8,
      "id": "7c0013d6-1a41-4a28-b6fc-e03b7ab238ea",
      "metadata": {
        "colab": {
          "base_uri": "https://localhost:8080/"
        },
        "id": "7c0013d6-1a41-4a28-b6fc-e03b7ab238ea",
        "outputId": "f3b6645c-8b9b-47bb-cbd2-b03c75dc9938"
      },
      "outputs": [
        {
          "output_type": "execute_result",
          "data": {
            "text/plain": [
              "tensor([[ 7,  8,  6],\n",
              "        [ 9, 10,  3]])"
            ]
          },
          "metadata": {},
          "execution_count": 8
        }
      ],
      "source": [
        "#MATRIX\n",
        "MATRIX=torch.tensor([[7,8,6],[9,10,3]])\n",
        "MATRIX"
      ]
    },
    {
      "cell_type": "code",
      "execution_count": 9,
      "id": "2f2f117f-2350-416c-bab0-318ba0224970",
      "metadata": {
        "colab": {
          "base_uri": "https://localhost:8080/"
        },
        "id": "2f2f117f-2350-416c-bab0-318ba0224970",
        "outputId": "75ea3dd3-a056-4474-851b-cb5c20f2901f"
      },
      "outputs": [
        {
          "output_type": "execute_result",
          "data": {
            "text/plain": [
              "2"
            ]
          },
          "metadata": {},
          "execution_count": 9
        }
      ],
      "source": [
        "MATRIX.ndim"
      ]
    },
    {
      "cell_type": "code",
      "execution_count": 10,
      "id": "94da54bf-6261-4aed-8192-ee4aeedeb440",
      "metadata": {
        "colab": {
          "base_uri": "https://localhost:8080/"
        },
        "id": "94da54bf-6261-4aed-8192-ee4aeedeb440",
        "outputId": "258c54a5-5594-494c-d031-89c8d9feb567"
      },
      "outputs": [
        {
          "output_type": "execute_result",
          "data": {
            "text/plain": [
              "tensor([7, 8, 6])"
            ]
          },
          "metadata": {},
          "execution_count": 10
        }
      ],
      "source": [
        "MATRIX[0]"
      ]
    },
    {
      "cell_type": "code",
      "execution_count": 11,
      "id": "e2d15a03-7e95-4b4b-9d56-657ed09feb7a",
      "metadata": {
        "colab": {
          "base_uri": "https://localhost:8080/"
        },
        "id": "e2d15a03-7e95-4b4b-9d56-657ed09feb7a",
        "outputId": "91712dd4-206f-4442-a598-38f5742626b5"
      },
      "outputs": [
        {
          "output_type": "execute_result",
          "data": {
            "text/plain": [
              "torch.Size([2, 3])"
            ]
          },
          "metadata": {},
          "execution_count": 11
        }
      ],
      "source": [
        "MATRIX.shape"
      ]
    },
    {
      "cell_type": "code",
      "execution_count": 12,
      "id": "48ade868-1fd8-4afe-8163-68c7cc12d013",
      "metadata": {
        "colab": {
          "base_uri": "https://localhost:8080/"
        },
        "id": "48ade868-1fd8-4afe-8163-68c7cc12d013",
        "outputId": "f0488b92-d75b-4ea2-c893-6585d7a06631"
      },
      "outputs": [
        {
          "output_type": "execute_result",
          "data": {
            "text/plain": [
              "3"
            ]
          },
          "metadata": {},
          "execution_count": 12
        }
      ],
      "source": [
        "# TENSOR\n",
        "TENSOR=torch.tensor([[[1,2,3],[3,4,6]],[[3,4,5],[6,7,8]]])\n",
        "TENSOR.ndim"
      ]
    },
    {
      "cell_type": "code",
      "execution_count": 13,
      "id": "89d54380-0d1c-481a-ae59-2089f9cd41dd",
      "metadata": {
        "colab": {
          "base_uri": "https://localhost:8080/"
        },
        "id": "89d54380-0d1c-481a-ae59-2089f9cd41dd",
        "outputId": "3672ff3b-61c7-47e4-82c6-8cb4e106824a"
      },
      "outputs": [
        {
          "output_type": "execute_result",
          "data": {
            "text/plain": [
              "torch.Size([2, 2, 3])"
            ]
          },
          "metadata": {},
          "execution_count": 13
        }
      ],
      "source": [
        "TENSOR.shape"
      ]
    },
    {
      "cell_type": "code",
      "execution_count": 14,
      "id": "a22e8f60-8489-44ba-9431-6906de8c87aa",
      "metadata": {
        "colab": {
          "base_uri": "https://localhost:8080/"
        },
        "id": "a22e8f60-8489-44ba-9431-6906de8c87aa",
        "outputId": "d3dbb319-0ce7-408d-a26a-e2b2566ccdea"
      },
      "outputs": [
        {
          "output_type": "execute_result",
          "data": {
            "text/plain": [
              "tensor([[1, 2, 3],\n",
              "        [3, 4, 6]])"
            ]
          },
          "metadata": {},
          "execution_count": 14
        }
      ],
      "source": [
        "TENSOR[0]"
      ]
    },
    {
      "cell_type": "code",
      "execution_count": 15,
      "id": "a5584e02-ee71-430b-bccf-11b02dc32375",
      "metadata": {
        "colab": {
          "base_uri": "https://localhost:8080/"
        },
        "id": "a5584e02-ee71-430b-bccf-11b02dc32375",
        "outputId": "77bdbbaf-6d15-4348-abb7-6f8a086cca4a"
      },
      "outputs": [
        {
          "output_type": "execute_result",
          "data": {
            "text/plain": [
              "tensor(6)"
            ]
          },
          "metadata": {},
          "execution_count": 15
        }
      ],
      "source": [
        "TENSOR[0][1][2]"
      ]
    },
    {
      "cell_type": "markdown",
      "id": "02353e70-ba2b-4aaf-89ce-b3153bc59c65",
      "metadata": {
        "id": "02353e70-ba2b-4aaf-89ce-b3153bc59c65"
      },
      "source": [
        "### Random tensors\n",
        "Random tensors are important because the way many neural networks learn is that they start with tensors full of random numbers and then adjust those numbers to better represent the data\n",
        "Start with random numbers -> look at data ->update random numbers -> look at data ->update random numbers"
      ]
    },
    {
      "cell_type": "code",
      "execution_count": 16,
      "id": "8c9339c2-41a4-4046-85c6-33522703476b",
      "metadata": {
        "colab": {
          "base_uri": "https://localhost:8080/"
        },
        "id": "8c9339c2-41a4-4046-85c6-33522703476b",
        "outputId": "cbb28ea1-1ac5-4857-cd13-26b7ac15ff09"
      },
      "outputs": [
        {
          "output_type": "execute_result",
          "data": {
            "text/plain": [
              "tensor([[0.4299, 0.5203, 0.9331, 0.5192],\n",
              "        [0.6463, 0.4407, 0.7709, 0.4135],\n",
              "        [0.5446, 0.5889, 0.9890, 0.2516]])"
            ]
          },
          "metadata": {},
          "execution_count": 16
        }
      ],
      "source": [
        "# create a random tensor of size (3,,4)\n",
        "rt=torch.rand(3,4)\n",
        "rt"
      ]
    },
    {
      "cell_type": "code",
      "execution_count": 17,
      "id": "6a495825-eff9-4191-b273-fc3a551a2212",
      "metadata": {
        "colab": {
          "base_uri": "https://localhost:8080/"
        },
        "id": "6a495825-eff9-4191-b273-fc3a551a2212",
        "outputId": "f343690e-3c6d-4493-890e-ad87d988c94a"
      },
      "outputs": [
        {
          "output_type": "execute_result",
          "data": {
            "text/plain": [
              "2"
            ]
          },
          "metadata": {},
          "execution_count": 17
        }
      ],
      "source": [
        "rt.ndim"
      ]
    },
    {
      "cell_type": "code",
      "execution_count": 18,
      "id": "1e53bb22-0189-45ff-a93a-8b24d65fe372",
      "metadata": {
        "colab": {
          "base_uri": "https://localhost:8080/"
        },
        "id": "1e53bb22-0189-45ff-a93a-8b24d65fe372",
        "outputId": "259e04c8-0ea6-4d54-e3f2-127e5a46501f"
      },
      "outputs": [
        {
          "output_type": "execute_result",
          "data": {
            "text/plain": [
              "torch.Size([3, 224, 224])"
            ]
          },
          "metadata": {},
          "execution_count": 18
        }
      ],
      "source": [
        "# Create a random tensor with similar shape to an image tensor\n",
        "image_tensor=torch.rand(3,224,224)#color channels,height,width\n",
        "image_tensor.shape"
      ]
    },
    {
      "cell_type": "code",
      "execution_count": 19,
      "id": "93eb35f3-ac8b-4cae-a9b3-66b05426d6e6",
      "metadata": {
        "colab": {
          "base_uri": "https://localhost:8080/"
        },
        "id": "93eb35f3-ac8b-4cae-a9b3-66b05426d6e6",
        "outputId": "abd18f62-2fc4-40f4-9bdb-678787b518fd"
      },
      "outputs": [
        {
          "output_type": "execute_result",
          "data": {
            "text/plain": [
              "3"
            ]
          },
          "metadata": {},
          "execution_count": 19
        }
      ],
      "source": [
        "image_tensor.ndim"
      ]
    },
    {
      "cell_type": "markdown",
      "id": "df863eff-a4d1-41e2-8d9a-3f9ab73a944d",
      "metadata": {
        "id": "df863eff-a4d1-41e2-8d9a-3f9ab73a944d"
      },
      "source": [
        "## Zeros and ones"
      ]
    },
    {
      "cell_type": "code",
      "execution_count": 20,
      "id": "dffc10de-ad74-47c9-8870-2c100614edfc",
      "metadata": {
        "colab": {
          "base_uri": "https://localhost:8080/"
        },
        "id": "dffc10de-ad74-47c9-8870-2c100614edfc",
        "outputId": "70a24845-3507-4ef8-ee85-0653b22dc2b0"
      },
      "outputs": [
        {
          "output_type": "execute_result",
          "data": {
            "text/plain": [
              "tensor([[0., 0., 0., 0.],\n",
              "        [0., 0., 0., 0.],\n",
              "        [0., 0., 0., 0.]])"
            ]
          },
          "metadata": {},
          "execution_count": 20
        }
      ],
      "source": [
        "#Create a tensor of all zeros\n",
        "z=torch.zeros(3,4)\n",
        "z"
      ]
    },
    {
      "cell_type": "code",
      "execution_count": 21,
      "id": "b1ebbb4a-2565-43fe-8259-bce140c24a4b",
      "metadata": {
        "colab": {
          "base_uri": "https://localhost:8080/"
        },
        "id": "b1ebbb4a-2565-43fe-8259-bce140c24a4b",
        "outputId": "dfccfb68-2984-4a37-9eed-b0e3bbe263cf"
      },
      "outputs": [
        {
          "output_type": "execute_result",
          "data": {
            "text/plain": [
              "tensor([[0., 0., 0., 0.],\n",
              "        [0., 0., 0., 0.],\n",
              "        [0., 0., 0., 0.]])"
            ]
          },
          "metadata": {},
          "execution_count": 21
        }
      ],
      "source": [
        "z*rt"
      ]
    },
    {
      "cell_type": "code",
      "execution_count": 22,
      "id": "d39883fa-6ece-4aaf-abd2-0627eb0cd468",
      "metadata": {
        "colab": {
          "base_uri": "https://localhost:8080/"
        },
        "id": "d39883fa-6ece-4aaf-abd2-0627eb0cd468",
        "outputId": "013de7f4-9c2b-4588-cdba-6478b15ae472"
      },
      "outputs": [
        {
          "output_type": "execute_result",
          "data": {
            "text/plain": [
              "tensor([[1., 1., 1., 1.],\n",
              "        [1., 1., 1., 1.],\n",
              "        [1., 1., 1., 1.]])"
            ]
          },
          "metadata": {},
          "execution_count": 22
        }
      ],
      "source": [
        "#All ones\n",
        "o=torch.ones(3,4)\n",
        "o"
      ]
    },
    {
      "cell_type": "code",
      "execution_count": 23,
      "id": "e4bdbe55-7830-4fb8-91fb-87c2b048c18f",
      "metadata": {
        "colab": {
          "base_uri": "https://localhost:8080/"
        },
        "id": "e4bdbe55-7830-4fb8-91fb-87c2b048c18f",
        "outputId": "358f951a-418e-4ce6-ba25-064a3f086242"
      },
      "outputs": [
        {
          "output_type": "execute_result",
          "data": {
            "text/plain": [
              "torch.float32"
            ]
          },
          "metadata": {},
          "execution_count": 23
        }
      ],
      "source": [
        "o.dtype"
      ]
    },
    {
      "cell_type": "code",
      "execution_count": 24,
      "id": "451dda29-ae8d-49ff-8690-b7150a1fac54",
      "metadata": {
        "colab": {
          "base_uri": "https://localhost:8080/"
        },
        "id": "451dda29-ae8d-49ff-8690-b7150a1fac54",
        "outputId": "7b1ece15-3079-438e-9ecb-91cecb139ccb"
      },
      "outputs": [
        {
          "output_type": "execute_result",
          "data": {
            "text/plain": [
              "torch.float32"
            ]
          },
          "metadata": {},
          "execution_count": 24
        }
      ],
      "source": [
        "rt.dtype"
      ]
    },
    {
      "cell_type": "markdown",
      "id": "044aeba8-313b-4333-91c9-f6e43395dac6",
      "metadata": {
        "id": "044aeba8-313b-4333-91c9-f6e43395dac6"
      },
      "source": [
        "### Creating a range of tensors and tensors-like"
      ]
    },
    {
      "cell_type": "code",
      "execution_count": 25,
      "id": "b2cd1b97-97ad-4d82-82c1-601ed507d970",
      "metadata": {
        "colab": {
          "base_uri": "https://localhost:8080/"
        },
        "id": "b2cd1b97-97ad-4d82-82c1-601ed507d970",
        "outputId": "63929eb7-d307-4ad9-d9e9-72dedc4c1065"
      },
      "outputs": [
        {
          "output_type": "stream",
          "name": "stderr",
          "text": [
            "<ipython-input-25-af251a0039a9>:1: UserWarning: torch.range is deprecated and will be removed in a future release because its behavior is inconsistent with Python's range builtin. Instead, use torch.arange, which produces values in [start, end).\n",
            "  one_to_ten=torch.range(0,10)\n"
          ]
        }
      ],
      "source": [
        "one_to_ten=torch.range(0,10)"
      ]
    },
    {
      "cell_type": "code",
      "execution_count": 26,
      "id": "4221e70b-af35-4323-868d-dce82bc1eac6",
      "metadata": {
        "colab": {
          "base_uri": "https://localhost:8080/"
        },
        "id": "4221e70b-af35-4323-868d-dce82bc1eac6",
        "outputId": "1f04a147-5627-4b81-9e14-ed5616772a14"
      },
      "outputs": [
        {
          "output_type": "execute_result",
          "data": {
            "text/plain": [
              "tensor([0, 1, 2, 3, 4, 5, 6, 7, 8, 9])"
            ]
          },
          "metadata": {},
          "execution_count": 26
        }
      ],
      "source": [
        "torch.arange(0,10)"
      ]
    },
    {
      "cell_type": "code",
      "execution_count": 27,
      "id": "cd1d7f25-712b-42d8-b08d-ed8697d9d261",
      "metadata": {
        "id": "cd1d7f25-712b-42d8-b08d-ed8697d9d261"
      },
      "outputs": [],
      "source": [
        "#range is float32 and arange is int64"
      ]
    },
    {
      "cell_type": "code",
      "execution_count": 28,
      "id": "733b44e4-5feb-48ff-8f05-9fa54717acd6",
      "metadata": {
        "colab": {
          "base_uri": "https://localhost:8080/"
        },
        "id": "733b44e4-5feb-48ff-8f05-9fa54717acd6",
        "outputId": "edf28db2-9b0e-4c11-9e49-02ef19ad5513"
      },
      "outputs": [
        {
          "output_type": "execute_result",
          "data": {
            "text/plain": [
              "tensor([  0,  77, 154, 231, 308, 385, 462, 539, 616, 693, 770, 847, 924])"
            ]
          },
          "metadata": {},
          "execution_count": 28
        }
      ],
      "source": [
        "torch.arange(start=0,end=1000,step=77)"
      ]
    },
    {
      "cell_type": "code",
      "execution_count": 29,
      "id": "bb5ac33d-0e50-4f87-8a86-7b6c0c29e3e5",
      "metadata": {
        "colab": {
          "base_uri": "https://localhost:8080/"
        },
        "id": "bb5ac33d-0e50-4f87-8a86-7b6c0c29e3e5",
        "outputId": "884213bd-3324-49d5-c0cc-5706f92a50ed"
      },
      "outputs": [
        {
          "output_type": "execute_result",
          "data": {
            "text/plain": [
              "tensor([0., 0., 0., 0., 0., 0., 0., 0., 0., 0., 0.])"
            ]
          },
          "metadata": {},
          "execution_count": 29
        }
      ],
      "source": [
        "# Creating tensors like\n",
        "ten_zeroes=torch.zeros_like(one_to_ten)#copying the shape of one_to_ten\n",
        "ten_zeroes"
      ]
    },
    {
      "cell_type": "markdown",
      "id": "f69b26c8-16b1-460d-bbeb-35253f064c3a",
      "metadata": {
        "id": "f69b26c8-16b1-460d-bbeb-35253f064c3a"
      },
      "source": [
        "### Tensor datatypes"
      ]
    },
    {
      "cell_type": "code",
      "execution_count": 30,
      "id": "d79b8179-c6d5-48f4-b9b4-664155631168",
      "metadata": {
        "colab": {
          "base_uri": "https://localhost:8080/"
        },
        "id": "d79b8179-c6d5-48f4-b9b4-664155631168",
        "outputId": "cec5b42b-4ff6-464e-a5ab-107af3f567ab"
      },
      "outputs": [
        {
          "output_type": "execute_result",
          "data": {
            "text/plain": [
              "torch.int64"
            ]
          },
          "metadata": {},
          "execution_count": 30
        }
      ],
      "source": [
        "a=torch.tensor([3,6,7])\n",
        "a.dtype"
      ]
    },
    {
      "cell_type": "code",
      "execution_count": 31,
      "id": "12a440f2-8f4e-4773-9dab-810bf80745e9",
      "metadata": {
        "colab": {
          "base_uri": "https://localhost:8080/"
        },
        "id": "12a440f2-8f4e-4773-9dab-810bf80745e9",
        "outputId": "550187b2-ee98-4f4d-bd75-840bf09a13f3"
      },
      "outputs": [
        {
          "output_type": "execute_result",
          "data": {
            "text/plain": [
              "torch.int64"
            ]
          },
          "metadata": {},
          "execution_count": 31
        }
      ],
      "source": [
        "a=torch.tensor([3.4,6.4,7],dtype=torch.int64)\n",
        "a.dtype"
      ]
    },
    {
      "cell_type": "code",
      "execution_count": 32,
      "id": "afacaacd-f670-4cc9-81a2-266515bb7c20",
      "metadata": {
        "id": "afacaacd-f670-4cc9-81a2-266515bb7c20"
      },
      "outputs": [],
      "source": [
        "#float 32 or 16 means precision"
      ]
    },
    {
      "cell_type": "code",
      "execution_count": 33,
      "id": "7e812377-8edb-4aed-be11-6a561af09ef2",
      "metadata": {
        "colab": {
          "base_uri": "https://localhost:8080/"
        },
        "id": "7e812377-8edb-4aed-be11-6a561af09ef2",
        "outputId": "757fe66c-66e8-4edd-92b9-552496c030d2"
      },
      "outputs": [
        {
          "output_type": "execute_result",
          "data": {
            "text/plain": [
              "torch.float32"
            ]
          },
          "metadata": {},
          "execution_count": 33
        }
      ],
      "source": [
        "a=torch.tensor([3.4,6.4,7],\n",
        "               dtype=None,#what datatype is the tensor\n",
        "              device=None,#what device is your tensor on \"cpu\",\"cuda\" etc\n",
        "              requires_grad=False)#whether or not to track gradients with this tensors operations\n",
        "a.dtype"
      ]
    },
    {
      "cell_type": "code",
      "execution_count": 34,
      "id": "67da9121-b813-4080-85bf-25920567bb47",
      "metadata": {
        "id": "67da9121-b813-4080-85bf-25920567bb47"
      },
      "outputs": [],
      "source": [
        "float_32_tensor=torch.tensor([3.4,6.4,7])"
      ]
    },
    {
      "cell_type": "code",
      "execution_count": 35,
      "id": "af6b3274-aaa9-480f-9a0e-d5cf98ec9619",
      "metadata": {
        "id": "af6b3274-aaa9-480f-9a0e-d5cf98ec9619"
      },
      "outputs": [],
      "source": [
        "float_16_tensor=float_32_tensor.type(torch.float16)#converting datatypes"
      ]
    },
    {
      "cell_type": "code",
      "execution_count": 36,
      "id": "8cb6c9f0-f6ee-4623-9e6c-d1ec575b6cc0",
      "metadata": {
        "colab": {
          "base_uri": "https://localhost:8080/"
        },
        "id": "8cb6c9f0-f6ee-4623-9e6c-d1ec575b6cc0",
        "outputId": "445521f0-ea9d-4423-c0bc-a68d1c971c8f"
      },
      "outputs": [
        {
          "output_type": "execute_result",
          "data": {
            "text/plain": [
              "tensor([11.5613, 40.9500, 49.0000])"
            ]
          },
          "metadata": {},
          "execution_count": 36
        }
      ],
      "source": [
        "float_32_tensor*float_16_tensor"
      ]
    },
    {
      "cell_type": "code",
      "execution_count": 37,
      "id": "6fad2ff3-3a73-451b-845d-0bf461e448ae",
      "metadata": {
        "id": "6fad2ff3-3a73-451b-845d-0bf461e448ae"
      },
      "outputs": [],
      "source": [
        "int_32_tensor=torch.tensor([3,2,1])"
      ]
    },
    {
      "cell_type": "code",
      "execution_count": 38,
      "id": "ea048c2a-97f7-48e6-9cd4-83a464987f96",
      "metadata": {
        "colab": {
          "base_uri": "https://localhost:8080/"
        },
        "id": "ea048c2a-97f7-48e6-9cd4-83a464987f96",
        "outputId": "03cf025c-430d-4cd2-e90c-4f7ee7f4a0fe"
      },
      "outputs": [
        {
          "output_type": "execute_result",
          "data": {
            "text/plain": [
              "tensor([10.2000, 12.8000,  7.0000])"
            ]
          },
          "metadata": {},
          "execution_count": 38
        }
      ],
      "source": [
        "float_32_tensor*int_32_tensor"
      ]
    },
    {
      "cell_type": "markdown",
      "id": "450caf7b-36dc-44c0-a644-ffdae933e8dc",
      "metadata": {
        "id": "450caf7b-36dc-44c0-a644-ffdae933e8dc"
      },
      "source": [
        "### Getting info from tensors\n",
        "1.Tensors not right datatype -to get datatype from tensor we use tensor.dtype\n",
        "2.Tensors not right shape- to get shape we use tensor.shape\n",
        "3.Tensors not on the right device-to get the device from a tensor we use tensor.device"
      ]
    },
    {
      "cell_type": "code",
      "execution_count": 39,
      "id": "3e6ff3de-57a1-4cf0-b2dd-4db07f9b1887",
      "metadata": {
        "colab": {
          "base_uri": "https://localhost:8080/"
        },
        "id": "3e6ff3de-57a1-4cf0-b2dd-4db07f9b1887",
        "outputId": "b87d1b64-4e08-4cad-961d-ee6287c01eff"
      },
      "outputs": [
        {
          "output_type": "execute_result",
          "data": {
            "text/plain": [
              "torch.float32"
            ]
          },
          "metadata": {},
          "execution_count": 39
        }
      ],
      "source": [
        "a.dtype"
      ]
    },
    {
      "cell_type": "code",
      "execution_count": 40,
      "id": "8f906496-d91b-4efb-aacc-48bcd46d0f32",
      "metadata": {
        "colab": {
          "base_uri": "https://localhost:8080/"
        },
        "id": "8f906496-d91b-4efb-aacc-48bcd46d0f32",
        "outputId": "b754409a-565b-4149-a11d-177f474e3f40"
      },
      "outputs": [
        {
          "output_type": "execute_result",
          "data": {
            "text/plain": [
              "torch.Size([3])"
            ]
          },
          "metadata": {},
          "execution_count": 40
        }
      ],
      "source": [
        "a.shape"
      ]
    },
    {
      "cell_type": "code",
      "execution_count": 41,
      "id": "aaeb641d-d88f-4328-96bc-f08fa262664f",
      "metadata": {
        "colab": {
          "base_uri": "https://localhost:8080/"
        },
        "id": "aaeb641d-d88f-4328-96bc-f08fa262664f",
        "outputId": "009f9682-5371-44f4-d5f6-5ee20435d18f"
      },
      "outputs": [
        {
          "output_type": "execute_result",
          "data": {
            "text/plain": [
              "device(type='cpu')"
            ]
          },
          "metadata": {},
          "execution_count": 41
        }
      ],
      "source": [
        "a.device"
      ]
    },
    {
      "cell_type": "markdown",
      "id": "7583484d-a8d0-47c3-ba54-ce6f5f451d04",
      "metadata": {
        "id": "7583484d-a8d0-47c3-ba54-ce6f5f451d04"
      },
      "source": [
        "### Manipulating tensors(tensor operations)\n",
        "Tensor operations include:\n",
        "*Addition *Substraction *Multiplication *Division *Matrix Multiplication"
      ]
    },
    {
      "cell_type": "code",
      "execution_count": 42,
      "id": "6546cdf3-51e9-44fa-9b3e-17c499d76732",
      "metadata": {
        "colab": {
          "base_uri": "https://localhost:8080/"
        },
        "id": "6546cdf3-51e9-44fa-9b3e-17c499d76732",
        "outputId": "b7ce1f20-ab9d-405d-d1bb-5860b1692369"
      },
      "outputs": [
        {
          "output_type": "execute_result",
          "data": {
            "text/plain": [
              "tensor([11, 12, 13])"
            ]
          },
          "metadata": {},
          "execution_count": 42
        }
      ],
      "source": [
        "#ADDITION\n",
        "a=torch.tensor([1,2,3])\n",
        "a+10"
      ]
    },
    {
      "cell_type": "code",
      "execution_count": 43,
      "id": "df6b5bd2-66d4-49e3-bffa-2fcbbaa090ab",
      "metadata": {
        "colab": {
          "base_uri": "https://localhost:8080/"
        },
        "id": "df6b5bd2-66d4-49e3-bffa-2fcbbaa090ab",
        "outputId": "09b2cb55-f16b-41d9-a022-de31b7e9dc63"
      },
      "outputs": [
        {
          "output_type": "execute_result",
          "data": {
            "text/plain": [
              "tensor([10, 20, 30])"
            ]
          },
          "metadata": {},
          "execution_count": 43
        }
      ],
      "source": [
        "a*10"
      ]
    },
    {
      "cell_type": "code",
      "execution_count": 44,
      "id": "b8ceacb1-b036-47e6-883d-7d294758cc7b",
      "metadata": {
        "colab": {
          "base_uri": "https://localhost:8080/"
        },
        "id": "b8ceacb1-b036-47e6-883d-7d294758cc7b",
        "outputId": "3f2579de-6037-4bf9-b6a7-e16e27f0619d"
      },
      "outputs": [
        {
          "output_type": "execute_result",
          "data": {
            "text/plain": [
              "tensor([-99, -98, -97])"
            ]
          },
          "metadata": {},
          "execution_count": 44
        }
      ],
      "source": [
        "a-100"
      ]
    },
    {
      "cell_type": "code",
      "execution_count": 45,
      "id": "62375727-e29b-48a0-9161-0b9f22558d1b",
      "metadata": {
        "colab": {
          "base_uri": "https://localhost:8080/"
        },
        "id": "62375727-e29b-48a0-9161-0b9f22558d1b",
        "outputId": "a6e11728-625b-4d13-cbbf-b18efdac64e9"
      },
      "outputs": [
        {
          "output_type": "execute_result",
          "data": {
            "text/plain": [
              "tensor([ 7, 14, 21])"
            ]
          },
          "metadata": {},
          "execution_count": 45
        }
      ],
      "source": [
        "#Instead can also try pytorch inbuilt functions\n",
        "torch.mul(a,7)# instead of * or can use * its fine"
      ]
    },
    {
      "cell_type": "code",
      "execution_count": 46,
      "id": "0eb44d0a-bded-4f9c-a6a8-2b4c3a6ce2d6",
      "metadata": {
        "colab": {
          "base_uri": "https://localhost:8080/"
        },
        "id": "0eb44d0a-bded-4f9c-a6a8-2b4c3a6ce2d6",
        "outputId": "0817124d-98f9-4af4-fdd1-d486a7fa26fa"
      },
      "outputs": [
        {
          "output_type": "execute_result",
          "data": {
            "text/plain": [
              "tensor([ 9, 10, 11])"
            ]
          },
          "metadata": {},
          "execution_count": 46
        }
      ],
      "source": [
        "torch.add(a,8)"
      ]
    },
    {
      "cell_type": "markdown",
      "id": "baa3e0e8-911d-44dc-82ac-8f5b3cc9c22d",
      "metadata": {
        "id": "baa3e0e8-911d-44dc-82ac-8f5b3cc9c22d"
      },
      "source": [
        "### Matrix multiplication"
      ]
    },
    {
      "cell_type": "code",
      "execution_count": 47,
      "id": "585934cf-c181-4a4b-ab14-ecb770513c73",
      "metadata": {
        "colab": {
          "base_uri": "https://localhost:8080/"
        },
        "id": "585934cf-c181-4a4b-ab14-ecb770513c73",
        "outputId": "b0c381dd-5fa6-4370-d7ff-4fa616491f9c"
      },
      "outputs": [
        {
          "output_type": "execute_result",
          "data": {
            "text/plain": [
              "tensor([1, 4, 9])"
            ]
          },
          "metadata": {},
          "execution_count": 47
        }
      ],
      "source": [
        "#Element wise multiplication\n",
        "a*a"
      ]
    },
    {
      "cell_type": "code",
      "execution_count": 48,
      "id": "dc969233-e93b-479d-b457-fc582ac68910",
      "metadata": {
        "colab": {
          "base_uri": "https://localhost:8080/"
        },
        "id": "dc969233-e93b-479d-b457-fc582ac68910",
        "outputId": "ed87b0d2-c252-49bb-f724-dfe1f80a183b"
      },
      "outputs": [
        {
          "output_type": "stream",
          "name": "stdout",
          "text": [
            "tensor([1, 2, 3]) * tensor([1, 2, 3])\n"
          ]
        }
      ],
      "source": [
        "print(a,\"*\",a)"
      ]
    },
    {
      "cell_type": "code",
      "execution_count": 49,
      "id": "848b9ccb-204e-43e9-b9f9-fdce5d9adaa4",
      "metadata": {
        "colab": {
          "base_uri": "https://localhost:8080/"
        },
        "id": "848b9ccb-204e-43e9-b9f9-fdce5d9adaa4",
        "outputId": "1200396a-c624-4749-c694-60ef978c08f8"
      },
      "outputs": [
        {
          "output_type": "stream",
          "name": "stdout",
          "text": [
            "a*a= tensor([1, 4, 9])\n"
          ]
        }
      ],
      "source": [
        "print(f\"a*a= {a*a}\")"
      ]
    },
    {
      "cell_type": "code",
      "execution_count": 50,
      "id": "48b5c835-829e-4723-9e67-38d20db7b004",
      "metadata": {
        "colab": {
          "base_uri": "https://localhost:8080/"
        },
        "id": "48b5c835-829e-4723-9e67-38d20db7b004",
        "outputId": "1b22906c-1fdd-4b86-bb80-b7b94a71151c"
      },
      "outputs": [
        {
          "output_type": "execute_result",
          "data": {
            "text/plain": [
              "tensor(14)"
            ]
          },
          "metadata": {},
          "execution_count": 50
        }
      ],
      "source": [
        "#Matrix multiplication\n",
        "torch.matmul(a,a)"
      ]
    },
    {
      "cell_type": "code",
      "execution_count": 51,
      "id": "a0d83e1d-1236-4b29-872c-bdf79d9fc164",
      "metadata": {
        "colab": {
          "base_uri": "https://localhost:8080/"
        },
        "id": "a0d83e1d-1236-4b29-872c-bdf79d9fc164",
        "outputId": "a37e8844-5d54-466c-aa60-baf4d184827e"
      },
      "outputs": [
        {
          "output_type": "execute_result",
          "data": {
            "text/plain": [
              "tensor(14)"
            ]
          },
          "metadata": {},
          "execution_count": 51
        }
      ],
      "source": [
        "a @ a # @ is same as matmul"
      ]
    },
    {
      "cell_type": "code",
      "execution_count": 52,
      "id": "1628a58a-24ba-4f7b-98d4-03362bcec9e3",
      "metadata": {
        "colab": {
          "base_uri": "https://localhost:8080/"
        },
        "id": "1628a58a-24ba-4f7b-98d4-03362bcec9e3",
        "outputId": "aa1af56c-59a3-4bb2-bd9a-495ce07f2349"
      },
      "outputs": [
        {
          "output_type": "execute_result",
          "data": {
            "text/plain": [
              "14"
            ]
          },
          "metadata": {},
          "execution_count": 52
        }
      ],
      "source": [
        "#Matrix multiplication by hand\n",
        "1*1+2*2+3*3"
      ]
    },
    {
      "cell_type": "code",
      "execution_count": 53,
      "id": "e956f4c6-8767-4fc2-adc5-bb24107795f5",
      "metadata": {
        "colab": {
          "base_uri": "https://localhost:8080/"
        },
        "id": "e956f4c6-8767-4fc2-adc5-bb24107795f5",
        "outputId": "5e0aa830-04c9-494f-a6c4-0a458eed554e"
      },
      "outputs": [
        {
          "output_type": "stream",
          "name": "stdout",
          "text": [
            "tensor(14)\n",
            "CPU times: user 816 µs, sys: 0 ns, total: 816 µs\n",
            "Wall time: 1.66 ms\n"
          ]
        }
      ],
      "source": [
        "%%time\n",
        "value=0\n",
        "for i in range(len(a)):\n",
        "    value+=a[i]*a[i]\n",
        "print(value)"
      ]
    },
    {
      "cell_type": "code",
      "execution_count": 54,
      "id": "05b7c699-0035-4669-97d9-4ac6a1ecf16c",
      "metadata": {
        "colab": {
          "base_uri": "https://localhost:8080/"
        },
        "id": "05b7c699-0035-4669-97d9-4ac6a1ecf16c",
        "outputId": "f3b0dbe8-9932-4dd2-98a8-f5e158292138"
      },
      "outputs": [
        {
          "output_type": "stream",
          "name": "stdout",
          "text": [
            "CPU times: user 35 µs, sys: 6 µs, total: 41 µs\n",
            "Wall time: 44.8 µs\n"
          ]
        },
        {
          "output_type": "execute_result",
          "data": {
            "text/plain": [
              "tensor(14)"
            ]
          },
          "metadata": {},
          "execution_count": 54
        }
      ],
      "source": [
        "%%time\n",
        "torch.matmul(a,a)#0ns much faster"
      ]
    },
    {
      "cell_type": "markdown",
      "id": "72fa1d7d-e98d-4f96-a561-f2a329fd0381",
      "metadata": {
        "id": "72fa1d7d-e98d-4f96-a561-f2a329fd0381"
      },
      "source": [
        "### one of the most common errors in deep learning is shape errors\n",
        "#### 1)1.Inner dimensions shud match (3,2) @ (3,2) wont work but (3,2) @ (2,3) works, here @ means matmul"
      ]
    },
    {
      "cell_type": "code",
      "execution_count": 56,
      "id": "71e665a4-3661-4b03-98f1-b313603eea68",
      "metadata": {
        "colab": {
          "base_uri": "https://localhost:8080/",
          "height": 141
        },
        "id": "71e665a4-3661-4b03-98f1-b313603eea68",
        "outputId": "6b5eec29-6ca3-4452-b9a6-d683a0c89edf"
      },
      "outputs": [
        {
          "output_type": "error",
          "ename": "RuntimeError",
          "evalue": "mat1 and mat2 shapes cannot be multiplied (3x2 and 3x2)",
          "traceback": [
            "\u001b[0;31m---------------------------------------------------------------------------\u001b[0m",
            "\u001b[0;31mRuntimeError\u001b[0m                              Traceback (most recent call last)",
            "\u001b[0;32m<ipython-input-56-b18cf73cc692>\u001b[0m in \u001b[0;36m<cell line: 0>\u001b[0;34m()\u001b[0m\n\u001b[0;32m----> 1\u001b[0;31m \u001b[0mtorch\u001b[0m\u001b[0;34m.\u001b[0m\u001b[0mmatmul\u001b[0m\u001b[0;34m(\u001b[0m\u001b[0mtorch\u001b[0m\u001b[0;34m.\u001b[0m\u001b[0mrand\u001b[0m\u001b[0;34m(\u001b[0m\u001b[0;36m3\u001b[0m\u001b[0;34m,\u001b[0m\u001b[0;36m2\u001b[0m\u001b[0;34m)\u001b[0m\u001b[0;34m,\u001b[0m\u001b[0mtorch\u001b[0m\u001b[0;34m.\u001b[0m\u001b[0mrand\u001b[0m\u001b[0;34m(\u001b[0m\u001b[0;36m3\u001b[0m\u001b[0;34m,\u001b[0m\u001b[0;36m2\u001b[0m\u001b[0;34m)\u001b[0m\u001b[0;34m)\u001b[0m\u001b[0;34m\u001b[0m\u001b[0;34m\u001b[0m\u001b[0m\n\u001b[0m",
            "\u001b[0;31mRuntimeError\u001b[0m: mat1 and mat2 shapes cannot be multiplied (3x2 and 3x2)"
          ]
        }
      ],
      "source": [
        "torch.matmul(torch.rand(3,2),torch.rand(3,2))"
      ]
    },
    {
      "cell_type": "code",
      "execution_count": 57,
      "id": "f8b2f6ed-58f9-425f-91c1-776afd1b63f0",
      "metadata": {
        "colab": {
          "base_uri": "https://localhost:8080/"
        },
        "id": "f8b2f6ed-58f9-425f-91c1-776afd1b63f0",
        "outputId": "6c6a988d-3d04-4317-c4ab-97cf6a5db866"
      },
      "outputs": [
        {
          "output_type": "execute_result",
          "data": {
            "text/plain": [
              "tensor([[0.4586, 0.5534, 0.6796],\n",
              "        [0.3065, 0.3251, 0.1734],\n",
              "        [0.9029, 0.9452, 0.4346]])"
            ]
          },
          "metadata": {},
          "execution_count": 57
        }
      ],
      "source": [
        "torch.matmul(torch.rand(3,2),torch.rand(2,3))"
      ]
    },
    {
      "cell_type": "code",
      "execution_count": 58,
      "id": "43110692-f7f6-437b-b3e8-b14069838bb9",
      "metadata": {
        "colab": {
          "base_uri": "https://localhost:8080/"
        },
        "id": "43110692-f7f6-437b-b3e8-b14069838bb9",
        "outputId": "50c603fe-823f-418d-9df1-311e4757ea26"
      },
      "outputs": [
        {
          "output_type": "execute_result",
          "data": {
            "text/plain": [
              "tensor([[0.9257, 0.7434, 1.1731],\n",
              "        [0.8932, 0.8334, 1.1186],\n",
              "        [0.2368, 0.2521, 0.2929]])"
            ]
          },
          "metadata": {},
          "execution_count": 58
        }
      ],
      "source": [
        "torch.rand(3,2)@torch.rand(2,3)"
      ]
    },
    {
      "cell_type": "code",
      "execution_count": 59,
      "id": "d0842c57-9f40-46a3-90b2-d817f2fb57a0",
      "metadata": {
        "colab": {
          "base_uri": "https://localhost:8080/"
        },
        "id": "d0842c57-9f40-46a3-90b2-d817f2fb57a0",
        "outputId": "25799c65-4f27-4521-bd80-8bad6f5eb465"
      },
      "outputs": [
        {
          "output_type": "execute_result",
          "data": {
            "text/plain": [
              "tensor([[1.2066, 1.1178],\n",
              "        [0.3748, 0.4889]])"
            ]
          },
          "metadata": {},
          "execution_count": 59
        }
      ],
      "source": [
        "torch.rand(2,3)@torch.rand(3,2)"
      ]
    },
    {
      "cell_type": "code",
      "execution_count": 60,
      "id": "d348700b-8011-408e-9005-6264c409fffa",
      "metadata": {
        "colab": {
          "base_uri": "https://localhost:8080/",
          "height": 176
        },
        "id": "d348700b-8011-408e-9005-6264c409fffa",
        "outputId": "dd0b2548-3975-4487-e072-d3c234423b5b"
      },
      "outputs": [
        {
          "output_type": "error",
          "ename": "RuntimeError",
          "evalue": "mat1 and mat2 shapes cannot be multiplied (3x2 and 3x2)",
          "traceback": [
            "\u001b[0;31m---------------------------------------------------------------------------\u001b[0m",
            "\u001b[0;31mRuntimeError\u001b[0m                              Traceback (most recent call last)",
            "\u001b[0;32m<ipython-input-60-370f7f3abc86>\u001b[0m in \u001b[0;36m<cell line: 0>\u001b[0;34m()\u001b[0m\n\u001b[1;32m      2\u001b[0m \u001b[0mtensor_A\u001b[0m\u001b[0;34m=\u001b[0m\u001b[0mtorch\u001b[0m\u001b[0;34m.\u001b[0m\u001b[0mtensor\u001b[0m\u001b[0;34m(\u001b[0m\u001b[0;34m[\u001b[0m\u001b[0;34m[\u001b[0m\u001b[0;36m1\u001b[0m\u001b[0;34m,\u001b[0m\u001b[0;36m2\u001b[0m\u001b[0;34m]\u001b[0m\u001b[0;34m,\u001b[0m\u001b[0;34m[\u001b[0m\u001b[0;36m3\u001b[0m\u001b[0;34m,\u001b[0m\u001b[0;36m4\u001b[0m\u001b[0;34m]\u001b[0m\u001b[0;34m,\u001b[0m\u001b[0;34m[\u001b[0m\u001b[0;36m5\u001b[0m\u001b[0;34m,\u001b[0m\u001b[0;36m6\u001b[0m\u001b[0;34m]\u001b[0m\u001b[0;34m]\u001b[0m\u001b[0;34m)\u001b[0m\u001b[0;34m\u001b[0m\u001b[0;34m\u001b[0m\u001b[0m\n\u001b[1;32m      3\u001b[0m \u001b[0mtensor_B\u001b[0m\u001b[0;34m=\u001b[0m\u001b[0mtorch\u001b[0m\u001b[0;34m.\u001b[0m\u001b[0mtensor\u001b[0m\u001b[0;34m(\u001b[0m\u001b[0;34m[\u001b[0m\u001b[0;34m[\u001b[0m\u001b[0;36m1\u001b[0m\u001b[0;34m,\u001b[0m\u001b[0;36m2\u001b[0m\u001b[0;34m]\u001b[0m\u001b[0;34m,\u001b[0m\u001b[0;34m[\u001b[0m\u001b[0;36m3\u001b[0m\u001b[0;34m,\u001b[0m\u001b[0;36m4\u001b[0m\u001b[0;34m]\u001b[0m\u001b[0;34m,\u001b[0m\u001b[0;34m[\u001b[0m\u001b[0;36m5\u001b[0m\u001b[0;34m,\u001b[0m\u001b[0;36m6\u001b[0m\u001b[0;34m]\u001b[0m\u001b[0;34m]\u001b[0m\u001b[0;34m)\u001b[0m\u001b[0;34m\u001b[0m\u001b[0;34m\u001b[0m\u001b[0m\n\u001b[0;32m----> 4\u001b[0;31m \u001b[0mtorch\u001b[0m\u001b[0;34m.\u001b[0m\u001b[0mmm\u001b[0m\u001b[0;34m(\u001b[0m\u001b[0mtensor_A\u001b[0m\u001b[0;34m,\u001b[0m\u001b[0mtensor_B\u001b[0m\u001b[0;34m)\u001b[0m\u001b[0;31m#mm is same as matmul\u001b[0m\u001b[0;34m\u001b[0m\u001b[0;34m\u001b[0m\u001b[0m\n\u001b[0m",
            "\u001b[0;31mRuntimeError\u001b[0m: mat1 and mat2 shapes cannot be multiplied (3x2 and 3x2)"
          ]
        }
      ],
      "source": [
        "# SHAPES FOR MATRIX MULTIPLICATION\n",
        "tensor_A=torch.tensor([[1,2],[3,4],[5,6]])\n",
        "tensor_B=torch.tensor([[1,2],[3,4],[5,6]])\n",
        "torch.mm(tensor_A,tensor_B)#mm is same as matmul"
      ]
    },
    {
      "cell_type": "code",
      "execution_count": 61,
      "id": "e079aa80-7ea9-4405-bf07-64e02ca74685",
      "metadata": {
        "colab": {
          "base_uri": "https://localhost:8080/"
        },
        "id": "e079aa80-7ea9-4405-bf07-64e02ca74685",
        "outputId": "8172e37f-bba6-46b7-bf24-660aa3845865"
      },
      "outputs": [
        {
          "output_type": "execute_result",
          "data": {
            "text/plain": [
              "tensor([[ 9, 12, 15],\n",
              "        [19, 26, 33],\n",
              "        [29, 40, 51]])"
            ]
          },
          "metadata": {},
          "execution_count": 61
        }
      ],
      "source": [
        "tensor_B=torch.tensor([[1,2,3],[4,5,6]])\n",
        "torch.mm(tensor_A,tensor_B)"
      ]
    },
    {
      "cell_type": "code",
      "execution_count": 62,
      "id": "62ba6cfa-db83-443f-a27d-1463cf8c295d",
      "metadata": {
        "id": "62ba6cfa-db83-443f-a27d-1463cf8c295d"
      },
      "outputs": [],
      "source": [
        "tensor_B=torch.tensor([[1,2],[3,4],[5,6]])"
      ]
    },
    {
      "cell_type": "code",
      "execution_count": 63,
      "id": "63edd1f1-ef90-4501-928c-bcd7d7b9b23f",
      "metadata": {
        "colab": {
          "base_uri": "https://localhost:8080/"
        },
        "id": "63edd1f1-ef90-4501-928c-bcd7d7b9b23f",
        "outputId": "c5ec3189-4d8a-402b-d270-c8c66d45f3b0"
      },
      "outputs": [
        {
          "output_type": "execute_result",
          "data": {
            "text/plain": [
              "tensor([[1, 3, 5],\n",
              "        [2, 4, 6]])"
            ]
          },
          "metadata": {},
          "execution_count": 63
        }
      ],
      "source": [
        "tensor_B.T#TRANSPOSE"
      ]
    },
    {
      "cell_type": "markdown",
      "id": "6f15cb5d-2b6e-4bdc-a9a7-0b2b7a9e5c59",
      "metadata": {
        "id": "6f15cb5d-2b6e-4bdc-a9a7-0b2b7a9e5c59"
      },
      "source": [
        "## Finding the min,max,mean,sum,etc(tensor aggregation)"
      ]
    },
    {
      "cell_type": "code",
      "execution_count": 64,
      "id": "19ceb15e-7c34-4967-8253-af76df8ffe41",
      "metadata": {
        "colab": {
          "base_uri": "https://localhost:8080/"
        },
        "id": "19ceb15e-7c34-4967-8253-af76df8ffe41",
        "outputId": "f36991f7-d4ef-4dca-cbda-e6943b04f697"
      },
      "outputs": [
        {
          "output_type": "execute_result",
          "data": {
            "text/plain": [
              "(tensor([ 0, 10, 20, 30, 40, 50, 60, 70, 80, 90]), torch.int64)"
            ]
          },
          "metadata": {},
          "execution_count": 64
        }
      ],
      "source": [
        "x=torch.arange(0,100,10)\n",
        "x,x.dtype"
      ]
    },
    {
      "cell_type": "code",
      "execution_count": 65,
      "id": "9caf00f0-238b-46e3-b0cc-b2d783af415e",
      "metadata": {
        "colab": {
          "base_uri": "https://localhost:8080/"
        },
        "id": "9caf00f0-238b-46e3-b0cc-b2d783af415e",
        "outputId": "feba95df-c50d-4bb4-a849-e05a23ebf498"
      },
      "outputs": [
        {
          "output_type": "execute_result",
          "data": {
            "text/plain": [
              "tensor(0)"
            ]
          },
          "metadata": {},
          "execution_count": 65
        }
      ],
      "source": [
        "torch.min(x)"
      ]
    },
    {
      "cell_type": "code",
      "execution_count": 66,
      "id": "51ff54a9-b9da-408f-b85d-7d6fd6926c90",
      "metadata": {
        "colab": {
          "base_uri": "https://localhost:8080/"
        },
        "id": "51ff54a9-b9da-408f-b85d-7d6fd6926c90",
        "outputId": "96de5550-5714-4bc1-8047-0ec8e8658607"
      },
      "outputs": [
        {
          "output_type": "execute_result",
          "data": {
            "text/plain": [
              "tensor(90)"
            ]
          },
          "metadata": {},
          "execution_count": 66
        }
      ],
      "source": [
        "torch.max(x)"
      ]
    },
    {
      "cell_type": "code",
      "execution_count": 67,
      "id": "f961a450-bc20-453f-9b14-54a02540294a",
      "metadata": {
        "colab": {
          "base_uri": "https://localhost:8080/",
          "height": 141
        },
        "id": "f961a450-bc20-453f-9b14-54a02540294a",
        "outputId": "2c58373a-23a4-4e8d-e629-4e8e41df3a7b"
      },
      "outputs": [
        {
          "output_type": "error",
          "ename": "RuntimeError",
          "evalue": "mean(): could not infer output dtype. Input dtype must be either a floating point or complex dtype. Got: Long",
          "traceback": [
            "\u001b[0;31m---------------------------------------------------------------------------\u001b[0m",
            "\u001b[0;31mRuntimeError\u001b[0m                              Traceback (most recent call last)",
            "\u001b[0;32m<ipython-input-67-455868396db1>\u001b[0m in \u001b[0;36m<cell line: 0>\u001b[0;34m()\u001b[0m\n\u001b[0;32m----> 1\u001b[0;31m \u001b[0mtorch\u001b[0m\u001b[0;34m.\u001b[0m\u001b[0mmean\u001b[0m\u001b[0;34m(\u001b[0m\u001b[0mx\u001b[0m\u001b[0;34m)\u001b[0m\u001b[0;34m\u001b[0m\u001b[0;34m\u001b[0m\u001b[0m\n\u001b[0m",
            "\u001b[0;31mRuntimeError\u001b[0m: mean(): could not infer output dtype. Input dtype must be either a floating point or complex dtype. Got: Long"
          ]
        }
      ],
      "source": [
        "torch.mean(x)"
      ]
    },
    {
      "cell_type": "code",
      "execution_count": 68,
      "id": "f267aec8-0e56-4a2c-98df-5eedad4e3705",
      "metadata": {
        "colab": {
          "base_uri": "https://localhost:8080/"
        },
        "id": "f267aec8-0e56-4a2c-98df-5eedad4e3705",
        "outputId": "c06eb67d-5071-4444-b952-3619fd55d7e3"
      },
      "outputs": [
        {
          "output_type": "execute_result",
          "data": {
            "text/plain": [
              "tensor(45.)"
            ]
          },
          "metadata": {},
          "execution_count": 68
        }
      ],
      "source": [
        "torch.mean(x.type(torch.float32))"
      ]
    },
    {
      "cell_type": "code",
      "execution_count": 69,
      "id": "83b6d57f-10b5-451f-a91c-cb2218f74aac",
      "metadata": {
        "colab": {
          "base_uri": "https://localhost:8080/",
          "height": 141
        },
        "id": "83b6d57f-10b5-451f-a91c-cb2218f74aac",
        "outputId": "3103269f-5365-4050-c5ad-b571931ac778"
      },
      "outputs": [
        {
          "output_type": "error",
          "ename": "RuntimeError",
          "evalue": "mean(): could not infer output dtype. Input dtype must be either a floating point or complex dtype. Got: Long",
          "traceback": [
            "\u001b[0;31m---------------------------------------------------------------------------\u001b[0m",
            "\u001b[0;31mRuntimeError\u001b[0m                              Traceback (most recent call last)",
            "\u001b[0;32m<ipython-input-69-6f9184126d05>\u001b[0m in \u001b[0;36m<cell line: 0>\u001b[0;34m()\u001b[0m\n\u001b[0;32m----> 1\u001b[0;31m \u001b[0mx\u001b[0m\u001b[0;34m.\u001b[0m\u001b[0mmean\u001b[0m\u001b[0;34m(\u001b[0m\u001b[0;34m)\u001b[0m\u001b[0;34m\u001b[0m\u001b[0;34m\u001b[0m\u001b[0m\n\u001b[0m",
            "\u001b[0;31mRuntimeError\u001b[0m: mean(): could not infer output dtype. Input dtype must be either a floating point or complex dtype. Got: Long"
          ]
        }
      ],
      "source": [
        "x.mean()"
      ]
    },
    {
      "cell_type": "code",
      "execution_count": 70,
      "id": "4d2a7b00-f355-40b0-9a03-95ffe98457b5",
      "metadata": {
        "colab": {
          "base_uri": "https://localhost:8080/"
        },
        "id": "4d2a7b00-f355-40b0-9a03-95ffe98457b5",
        "outputId": "a0d3bd75-33ac-47f9-929a-3aedcd683177"
      },
      "outputs": [
        {
          "output_type": "execute_result",
          "data": {
            "text/plain": [
              "tensor(45.)"
            ]
          },
          "metadata": {},
          "execution_count": 70
        }
      ],
      "source": [
        "x.type(torch.float32).mean()"
      ]
    },
    {
      "cell_type": "code",
      "execution_count": 71,
      "id": "68d66a52-8623-462d-acf0-74cc4d9d9364",
      "metadata": {
        "colab": {
          "base_uri": "https://localhost:8080/"
        },
        "id": "68d66a52-8623-462d-acf0-74cc4d9d9364",
        "outputId": "d2b059bb-1cf6-4390-ed00-cb5c589f698c"
      },
      "outputs": [
        {
          "output_type": "execute_result",
          "data": {
            "text/plain": [
              "(tensor(450), tensor(450))"
            ]
          },
          "metadata": {},
          "execution_count": 71
        }
      ],
      "source": [
        "torch.sum(x),x.sum()"
      ]
    },
    {
      "cell_type": "markdown",
      "id": "112f8c3b-2070-47b7-8a9b-e3cc51586835",
      "metadata": {
        "id": "112f8c3b-2070-47b7-8a9b-e3cc51586835"
      },
      "source": [
        "### Finding the positional min and max"
      ]
    },
    {
      "cell_type": "code",
      "execution_count": 72,
      "id": "76d7ce6d-279f-4a9d-aeb9-790df4c1088f",
      "metadata": {
        "colab": {
          "base_uri": "https://localhost:8080/"
        },
        "id": "76d7ce6d-279f-4a9d-aeb9-790df4c1088f",
        "outputId": "03251ddd-f752-4524-aab6-13dd83371d8b"
      },
      "outputs": [
        {
          "output_type": "execute_result",
          "data": {
            "text/plain": [
              "tensor([ 0, 10, 20, 30, 40, 50, 60, 70, 80, 90])"
            ]
          },
          "metadata": {},
          "execution_count": 72
        }
      ],
      "source": [
        "x"
      ]
    },
    {
      "cell_type": "code",
      "execution_count": 73,
      "id": "26e3d3d6-d6c1-4492-b11f-916ad65cb0a3",
      "metadata": {
        "colab": {
          "base_uri": "https://localhost:8080/"
        },
        "id": "26e3d3d6-d6c1-4492-b11f-916ad65cb0a3",
        "outputId": "d3966399-5ddf-415e-eba3-dbd57c57a615"
      },
      "outputs": [
        {
          "output_type": "execute_result",
          "data": {
            "text/plain": [
              "tensor(9)"
            ]
          },
          "metadata": {},
          "execution_count": 73
        }
      ],
      "source": [
        "x.argmax()"
      ]
    },
    {
      "cell_type": "markdown",
      "id": "de457291-42a3-43ad-b8d3-ca8574a70786",
      "metadata": {
        "id": "de457291-42a3-43ad-b8d3-ca8574a70786"
      },
      "source": [
        "## Reshaping , stacking,squeezing and unsqueezing tensors\n",
        "### Reshaping -reshapes an input tensor to a defined shape\n",
        "### View -Return a view of an input tensor of certain shape but keep the same memory of the original tensor\n",
        "### Stacking-combine multiple tensors on top of each other (vstack) or side by side\n",
        "### stack -https://pytorch.org/docs/stable/generated/torch.stack.html\n",
        "### squeeze- removes all '1' dimension to a target tensor\n",
        "### permute- return a view of the input with dimension permuted (swappe) in a certain way"
      ]
    },
    {
      "cell_type": "code",
      "execution_count": 74,
      "id": "c548ccca-dbce-4d1a-b584-0246695d928d",
      "metadata": {
        "colab": {
          "base_uri": "https://localhost:8080/"
        },
        "id": "c548ccca-dbce-4d1a-b584-0246695d928d",
        "outputId": "d36b06db-6adc-4139-f66b-752c1e5e1cee"
      },
      "outputs": [
        {
          "output_type": "execute_result",
          "data": {
            "text/plain": [
              "(tensor([ 1.,  2.,  3.,  4.,  5.,  6.,  7.,  8.,  9., 10.]), torch.Size([10]))"
            ]
          },
          "metadata": {},
          "execution_count": 74
        }
      ],
      "source": [
        "x=torch.arange(1.,11.)\n",
        "x,x.shape"
      ]
    },
    {
      "cell_type": "code",
      "execution_count": 75,
      "id": "32509895-237a-44e1-ad0c-86c09edb7c74",
      "metadata": {
        "colab": {
          "base_uri": "https://localhost:8080/"
        },
        "id": "32509895-237a-44e1-ad0c-86c09edb7c74",
        "outputId": "b2a95035-d87c-4814-f50a-a508452c2842"
      },
      "outputs": [
        {
          "output_type": "execute_result",
          "data": {
            "text/plain": [
              "tensor([[ 1.],\n",
              "        [ 2.],\n",
              "        [ 3.],\n",
              "        [ 4.],\n",
              "        [ 5.],\n",
              "        [ 6.],\n",
              "        [ 7.],\n",
              "        [ 8.],\n",
              "        [ 9.],\n",
              "        [10.]])"
            ]
          },
          "metadata": {},
          "execution_count": 75
        }
      ],
      "source": [
        "#add an extra dimension\n",
        "x_reshaped=x.reshape([10,1])\n",
        "x_reshaped"
      ]
    },
    {
      "cell_type": "code",
      "execution_count": 76,
      "id": "35a25082-861b-4355-b46a-5045ece8cb78",
      "metadata": {
        "colab": {
          "base_uri": "https://localhost:8080/"
        },
        "id": "35a25082-861b-4355-b46a-5045ece8cb78",
        "outputId": "e1f8d125-f8f8-4f08-a4fe-4b641a5217fe"
      },
      "outputs": [
        {
          "output_type": "execute_result",
          "data": {
            "text/plain": [
              "tensor([[[ 1.],\n",
              "         [ 2.]],\n",
              "\n",
              "        [[ 3.],\n",
              "         [ 4.]],\n",
              "\n",
              "        [[ 5.],\n",
              "         [ 6.]],\n",
              "\n",
              "        [[ 7.],\n",
              "         [ 8.]],\n",
              "\n",
              "        [[ 9.],\n",
              "         [10.]]])"
            ]
          },
          "metadata": {},
          "execution_count": 76
        }
      ],
      "source": [
        "x_reshaped=x.reshape([5,2,1])\n",
        "x_reshaped"
      ]
    },
    {
      "cell_type": "code",
      "execution_count": 77,
      "id": "16f974e6-95db-4587-9ac1-a39038274aa0",
      "metadata": {
        "colab": {
          "base_uri": "https://localhost:8080/"
        },
        "id": "16f974e6-95db-4587-9ac1-a39038274aa0",
        "outputId": "fadb8848-d66d-4f18-c4ef-a61b0cafa452"
      },
      "outputs": [
        {
          "output_type": "execute_result",
          "data": {
            "text/plain": [
              "(tensor([[ 1.,  2.,  3.,  4.,  5.,  6.,  7.,  8.,  9., 10.]]),\n",
              " torch.Size([1, 10]))"
            ]
          },
          "metadata": {},
          "execution_count": 77
        }
      ],
      "source": [
        "#Change the view\n",
        "z=x.view(1,10)\n",
        "z,z.shape\n",
        "#changing z changes x bcz they both share memory"
      ]
    },
    {
      "cell_type": "code",
      "execution_count": 78,
      "id": "ac77a537-cd17-4a80-bd5e-b52adf78c39f",
      "metadata": {
        "colab": {
          "base_uri": "https://localhost:8080/"
        },
        "id": "ac77a537-cd17-4a80-bd5e-b52adf78c39f",
        "outputId": "e4ad4f32-46d0-4157-c71d-43586ed7be69"
      },
      "outputs": [
        {
          "output_type": "execute_result",
          "data": {
            "text/plain": [
              "(tensor([[ 5.,  2.,  3.,  4.,  5.,  6.,  7.,  8.,  9., 10.]]),\n",
              " tensor([ 5.,  2.,  3.,  4.,  5.,  6.,  7.,  8.,  9., 10.]))"
            ]
          },
          "metadata": {},
          "execution_count": 78
        }
      ],
      "source": [
        "#changing z\n",
        "z[0][0]=5\n",
        "z,x"
      ]
    },
    {
      "cell_type": "code",
      "execution_count": 79,
      "id": "4d358b18-778c-418f-a750-7920d1b869be",
      "metadata": {
        "colab": {
          "base_uri": "https://localhost:8080/"
        },
        "id": "4d358b18-778c-418f-a750-7920d1b869be",
        "outputId": "33466471-1508-4b8a-bb4c-507c119b0f22"
      },
      "outputs": [
        {
          "output_type": "execute_result",
          "data": {
            "text/plain": [
              "tensor([[ 5.,  2.,  3.,  4.,  5.,  6.,  7.,  8.,  9., 10.],\n",
              "        [ 5.,  2.,  3.,  4.,  5.,  6.,  7.,  8.,  9., 10.],\n",
              "        [ 5.,  2.,  3.,  4.,  5.,  6.,  7.,  8.,  9., 10.],\n",
              "        [ 5.,  2.,  3.,  4.,  5.,  6.,  7.,  8.,  9., 10.]])"
            ]
          },
          "metadata": {},
          "execution_count": 79
        }
      ],
      "source": [
        "#stack tensors on top of each other\n",
        "x_stacked=torch.stack([x,x,x,x],dim=0)#v stack dim=0\n",
        "x_stacked"
      ]
    },
    {
      "cell_type": "code",
      "execution_count": 80,
      "id": "b7b40e66-5e3d-4421-b1cc-100af05570e6",
      "metadata": {
        "colab": {
          "base_uri": "https://localhost:8080/"
        },
        "id": "b7b40e66-5e3d-4421-b1cc-100af05570e6",
        "outputId": "46c58f8c-6ce0-4211-9b50-2cdf9eaaf331"
      },
      "outputs": [
        {
          "output_type": "execute_result",
          "data": {
            "text/plain": [
              "tensor([[ 5.,  5.,  5.,  5.],\n",
              "        [ 2.,  2.,  2.,  2.],\n",
              "        [ 3.,  3.,  3.,  3.],\n",
              "        [ 4.,  4.,  4.,  4.],\n",
              "        [ 5.,  5.,  5.,  5.],\n",
              "        [ 6.,  6.,  6.,  6.],\n",
              "        [ 7.,  7.,  7.,  7.],\n",
              "        [ 8.,  8.,  8.,  8.],\n",
              "        [ 9.,  9.,  9.,  9.],\n",
              "        [10., 10., 10., 10.]])"
            ]
          },
          "metadata": {},
          "execution_count": 80
        }
      ],
      "source": [
        "x_stacked=torch.stack([x,x,x,x],dim=1)#h stack dim=1\n",
        "x_stacked"
      ]
    },
    {
      "cell_type": "code",
      "execution_count": 81,
      "id": "3f94e701-2016-4c74-a9cc-f0ea60ff1b1e",
      "metadata": {
        "colab": {
          "base_uri": "https://localhost:8080/"
        },
        "id": "3f94e701-2016-4c74-a9cc-f0ea60ff1b1e",
        "outputId": "30f1f747-584d-4678-c2a2-f0fd7e3dbb40"
      },
      "outputs": [
        {
          "output_type": "execute_result",
          "data": {
            "text/plain": [
              "tensor([ 1.,  2.,  3.,  4.,  5.,  6.,  7.,  8.,  9., 10.])"
            ]
          },
          "metadata": {},
          "execution_count": 81
        }
      ],
      "source": [
        "#squeeze =removes all the single dimensions\n",
        "x=torch.arange(1.,11.)\n",
        "x"
      ]
    },
    {
      "cell_type": "code",
      "execution_count": 82,
      "id": "75de0233-f463-4dd3-b7cb-dba2dd1262ca",
      "metadata": {
        "colab": {
          "base_uri": "https://localhost:8080/"
        },
        "id": "75de0233-f463-4dd3-b7cb-dba2dd1262ca",
        "outputId": "83738a84-fb74-4b23-9e70-783968e97c93"
      },
      "outputs": [
        {
          "output_type": "execute_result",
          "data": {
            "text/plain": [
              "torch.Size([10])"
            ]
          },
          "metadata": {},
          "execution_count": 82
        }
      ],
      "source": [
        "x.squeeze().shape"
      ]
    },
    {
      "cell_type": "code",
      "execution_count": 83,
      "id": "dd27a9f7-0eec-4f41-933c-26ff330a7404",
      "metadata": {
        "colab": {
          "base_uri": "https://localhost:8080/"
        },
        "id": "dd27a9f7-0eec-4f41-933c-26ff330a7404",
        "outputId": "1eee93f6-cb8d-4e36-a1c6-acce093edbcb"
      },
      "outputs": [
        {
          "output_type": "execute_result",
          "data": {
            "text/plain": [
              "tensor([[[0.8550, 0.4046, 0.6360, 0.1142, 0.1455]]])"
            ]
          },
          "metadata": {},
          "execution_count": 83
        }
      ],
      "source": [
        "y=torch.rand([1,1,5])\n",
        "y"
      ]
    },
    {
      "cell_type": "code",
      "execution_count": 84,
      "id": "2752a4dd-eb35-44dc-afd7-36e5f308e21f",
      "metadata": {
        "colab": {
          "base_uri": "https://localhost:8080/"
        },
        "id": "2752a4dd-eb35-44dc-afd7-36e5f308e21f",
        "outputId": "d9269dce-d48e-45c0-e061-cc384a0c55fb"
      },
      "outputs": [
        {
          "output_type": "execute_result",
          "data": {
            "text/plain": [
              "(torch.Size([5]), tensor([0.8550, 0.4046, 0.6360, 0.1142, 0.1455]))"
            ]
          },
          "metadata": {},
          "execution_count": 84
        }
      ],
      "source": [
        "y.squeeze().shape,y.squeeze()#see removed all faltu ke 1 dimensions"
      ]
    },
    {
      "cell_type": "code",
      "execution_count": 85,
      "id": "0d9adba3-e1af-42ca-ab14-d83188cde64b",
      "metadata": {
        "colab": {
          "base_uri": "https://localhost:8080/"
        },
        "id": "0d9adba3-e1af-42ca-ab14-d83188cde64b",
        "outputId": "38131185-c593-4993-e566-984c347f0849"
      },
      "outputs": [
        {
          "output_type": "execute_result",
          "data": {
            "text/plain": [
              "(tensor([[[[0.8550, 0.4046, 0.6360, 0.1142, 0.1455]]]]),\n",
              " torch.Size([1, 1, 1, 5]))"
            ]
          },
          "metadata": {},
          "execution_count": 85
        }
      ],
      "source": [
        "#torch.unsqueeze()-adds a single dim to a tensor at a specific dimension\n",
        "y.unsqueeze(dim=0),y.unsqueeze(dim=0).shape"
      ]
    },
    {
      "cell_type": "code",
      "execution_count": 86,
      "id": "c4c05f77-37bd-4c49-83b9-7f1a2c9141e1",
      "metadata": {
        "colab": {
          "base_uri": "https://localhost:8080/"
        },
        "id": "c4c05f77-37bd-4c49-83b9-7f1a2c9141e1",
        "outputId": "41f33441-0bf5-45e9-ef8a-c33fdcc4c54e"
      },
      "outputs": [
        {
          "output_type": "execute_result",
          "data": {
            "text/plain": [
              "torch.Size([224, 224, 3])"
            ]
          },
          "metadata": {},
          "execution_count": 86
        }
      ],
      "source": [
        "#torch.permute-rearranges the data in tensor in a certain order\n",
        "x=torch.rand(size=(224,224,3))#height,width,color channel for image\n",
        "x.shape"
      ]
    },
    {
      "cell_type": "code",
      "execution_count": 87,
      "id": "53dba23e-5642-4f91-8238-3c4dcce2d522",
      "metadata": {
        "colab": {
          "base_uri": "https://localhost:8080/"
        },
        "id": "53dba23e-5642-4f91-8238-3c4dcce2d522",
        "outputId": "3c34df7e-c049-493a-f13b-8413ab223cc0"
      },
      "outputs": [
        {
          "output_type": "execute_result",
          "data": {
            "text/plain": [
              "torch.Size([3, 224, 224])"
            ]
          },
          "metadata": {},
          "execution_count": 87
        }
      ],
      "source": [
        "#permute x to rearrange the dimensions\n",
        "x=torch.permute(x,(2,0,1))#colour columns(2) is 1st now (colour channel,height,width)\n",
        "x.shape"
      ]
    },
    {
      "cell_type": "markdown",
      "id": "80207d29-438c-4951-b402-221b472e0dd9",
      "metadata": {
        "id": "80207d29-438c-4951-b402-221b472e0dd9"
      },
      "source": [
        "## Indexing  (selecting data from tensors)"
      ]
    },
    {
      "cell_type": "code",
      "execution_count": 88,
      "id": "0327d9a6-4fea-42e3-9581-adb9f5d523a8",
      "metadata": {
        "colab": {
          "base_uri": "https://localhost:8080/"
        },
        "id": "0327d9a6-4fea-42e3-9581-adb9f5d523a8",
        "outputId": "e485087e-71d4-44f5-c4c9-1045a88d4899"
      },
      "outputs": [
        {
          "output_type": "execute_result",
          "data": {
            "text/plain": [
              "(tensor([[[1, 2, 3],\n",
              "          [4, 5, 6],\n",
              "          [7, 8, 9]]]),\n",
              " torch.Size([1, 3, 3]))"
            ]
          },
          "metadata": {},
          "execution_count": 88
        }
      ],
      "source": [
        "x=torch.arange(1,10).reshape(1,3,3)\n",
        "x,x.shape"
      ]
    },
    {
      "cell_type": "code",
      "execution_count": 89,
      "id": "f4bc44d0-75bb-4318-b313-1e4f82682204",
      "metadata": {
        "colab": {
          "base_uri": "https://localhost:8080/"
        },
        "id": "f4bc44d0-75bb-4318-b313-1e4f82682204",
        "outputId": "65d4916b-a81f-4641-e1bf-d22b89737001"
      },
      "outputs": [
        {
          "output_type": "execute_result",
          "data": {
            "text/plain": [
              "tensor([[1, 2, 3],\n",
              "        [4, 5, 6],\n",
              "        [7, 8, 9]])"
            ]
          },
          "metadata": {},
          "execution_count": 89
        }
      ],
      "source": [
        "#Let's index\n",
        "x[0]"
      ]
    },
    {
      "cell_type": "code",
      "execution_count": 90,
      "id": "69bdd61d-739f-49c8-a948-6a52733b33ee",
      "metadata": {
        "colab": {
          "base_uri": "https://localhost:8080/"
        },
        "id": "69bdd61d-739f-49c8-a948-6a52733b33ee",
        "outputId": "a144bb91-3100-4a55-c3e0-1b12055c735c"
      },
      "outputs": [
        {
          "output_type": "execute_result",
          "data": {
            "text/plain": [
              "(tensor([1, 2, 3]), tensor([1, 2, 3]))"
            ]
          },
          "metadata": {},
          "execution_count": 90
        }
      ],
      "source": [
        "x[0][0],x[0,0]"
      ]
    },
    {
      "cell_type": "code",
      "execution_count": 91,
      "id": "70731e8c-ebfd-4aab-99ef-ff5b020ac19f",
      "metadata": {
        "colab": {
          "base_uri": "https://localhost:8080/"
        },
        "id": "70731e8c-ebfd-4aab-99ef-ff5b020ac19f",
        "outputId": "9a3d1f5d-8609-4d81-fdbb-877510a0cb51"
      },
      "outputs": [
        {
          "output_type": "execute_result",
          "data": {
            "text/plain": [
              "tensor(1)"
            ]
          },
          "metadata": {},
          "execution_count": 91
        }
      ],
      "source": [
        "x[0][0][0]"
      ]
    },
    {
      "cell_type": "code",
      "execution_count": 92,
      "id": "f59d1aea-a609-48fa-956e-05d2e7cac43a",
      "metadata": {
        "colab": {
          "base_uri": "https://localhost:8080/"
        },
        "id": "f59d1aea-a609-48fa-956e-05d2e7cac43a",
        "outputId": "dcf51259-40e8-449e-a669-5364d9ee912e"
      },
      "outputs": [
        {
          "output_type": "execute_result",
          "data": {
            "text/plain": [
              "tensor([[1, 2, 3]])"
            ]
          },
          "metadata": {},
          "execution_count": 92
        }
      ],
      "source": [
        "# you can also use \":\" to select \"all\" of a target dimension\n",
        "x[:,0]#all values from the"
      ]
    },
    {
      "cell_type": "code",
      "execution_count": 93,
      "id": "c0e509a4-7368-4d70-b1b7-293a760a3d85",
      "metadata": {
        "colab": {
          "base_uri": "https://localhost:8080/"
        },
        "id": "c0e509a4-7368-4d70-b1b7-293a760a3d85",
        "outputId": "bb655d54-e7b3-4dad-cc2d-fda206122939"
      },
      "outputs": [
        {
          "output_type": "execute_result",
          "data": {
            "text/plain": [
              "tensor([[2, 5, 8]])"
            ]
          },
          "metadata": {},
          "execution_count": 93
        }
      ],
      "source": [
        "# Get all values of the 0th and the 1st dimension but only index 1 of the 2nd dimension\n",
        "x[:,:,1]"
      ]
    },
    {
      "cell_type": "code",
      "execution_count": 94,
      "id": "42c32080-64ae-4648-b48c-d1a5cc498f2f",
      "metadata": {
        "colab": {
          "base_uri": "https://localhost:8080/"
        },
        "id": "42c32080-64ae-4648-b48c-d1a5cc498f2f",
        "outputId": "6f09e659-ab51-423a-f2df-7ead7084ca5b"
      },
      "outputs": [
        {
          "output_type": "execute_result",
          "data": {
            "text/plain": [
              "tensor([5])"
            ]
          },
          "metadata": {},
          "execution_count": 94
        }
      ],
      "source": [
        "#Get all the values of the 0th dimension but only the 1 value of 1st and 2nd dim\n",
        "x[:,1,1]"
      ]
    },
    {
      "cell_type": "code",
      "execution_count": 95,
      "id": "c03a5aa4-385d-43f3-92cb-1b20343fec47",
      "metadata": {
        "colab": {
          "base_uri": "https://localhost:8080/"
        },
        "id": "c03a5aa4-385d-43f3-92cb-1b20343fec47",
        "outputId": "ef2e7db5-01ac-4251-9be2-e023c21327be"
      },
      "outputs": [
        {
          "output_type": "execute_result",
          "data": {
            "text/plain": [
              "tensor([1, 2, 3])"
            ]
          },
          "metadata": {},
          "execution_count": 95
        }
      ],
      "source": [
        "# get index 0 of 0th and 1st dim and all values of the 2nd dim\n",
        "x[0,0,:]"
      ]
    },
    {
      "cell_type": "code",
      "execution_count": 96,
      "id": "633c76e5-fcca-4a4a-aff3-3b38494bd260",
      "metadata": {
        "colab": {
          "base_uri": "https://localhost:8080/"
        },
        "id": "633c76e5-fcca-4a4a-aff3-3b38494bd260",
        "outputId": "b4e59756-fa27-4a50-f888-bd93a018fc77"
      },
      "outputs": [
        {
          "output_type": "execute_result",
          "data": {
            "text/plain": [
              "tensor([9])"
            ]
          },
          "metadata": {},
          "execution_count": 96
        }
      ],
      "source": [
        "#Index on x to return 9\n",
        "x[:,2,2]"
      ]
    },
    {
      "cell_type": "code",
      "execution_count": 97,
      "id": "198e528b-ea3e-4e8e-83df-d9eb21b7a979",
      "metadata": {
        "colab": {
          "base_uri": "https://localhost:8080/"
        },
        "id": "198e528b-ea3e-4e8e-83df-d9eb21b7a979",
        "outputId": "36eecfcd-aaed-4639-ce7c-47e04c6b4b88"
      },
      "outputs": [
        {
          "output_type": "execute_result",
          "data": {
            "text/plain": [
              "tensor([[3, 6, 9]])"
            ]
          },
          "metadata": {},
          "execution_count": 97
        }
      ],
      "source": [
        "#Index on x to return 3,6,9\n",
        "x[:,:,2]"
      ]
    },
    {
      "cell_type": "markdown",
      "id": "4ba556d5-3c90-4e5c-85d2-8601d004e236",
      "metadata": {
        "id": "4ba556d5-3c90-4e5c-85d2-8601d004e236"
      },
      "source": [
        "## Pytorch tensors and numpy"
      ]
    },
    {
      "cell_type": "code",
      "execution_count": 98,
      "id": "4cb805bf-cac3-4973-91c0-caa6b1b7e141",
      "metadata": {
        "colab": {
          "base_uri": "https://localhost:8080/"
        },
        "id": "4cb805bf-cac3-4973-91c0-caa6b1b7e141",
        "outputId": "c002e0ec-64f4-4961-bd6b-78aca74bcf33"
      },
      "outputs": [
        {
          "output_type": "execute_result",
          "data": {
            "text/plain": [
              "(array([1., 2., 3., 4., 5., 6., 7.]),\n",
              " tensor([1., 2., 3., 4., 5., 6., 7.], dtype=torch.float64))"
            ]
          },
          "metadata": {},
          "execution_count": 98
        }
      ],
      "source": [
        "#Numpy array to tensor\n",
        "import torch\n",
        "import numpy as np\n",
        "\n",
        "array=np.arange(1.0,8.0)\n",
        "tensor=torch.from_numpy(array)\n",
        "array,tensor"
      ]
    },
    {
      "cell_type": "code",
      "execution_count": 99,
      "id": "04fd963e-e92b-4645-8b1d-3585375922fc",
      "metadata": {
        "colab": {
          "base_uri": "https://localhost:8080/"
        },
        "id": "04fd963e-e92b-4645-8b1d-3585375922fc",
        "outputId": "af9ce672-01c0-453f-aeca-e61b0d18b668"
      },
      "outputs": [
        {
          "output_type": "execute_result",
          "data": {
            "text/plain": [
              "dtype('float64')"
            ]
          },
          "metadata": {},
          "execution_count": 99
        }
      ],
      "source": [
        "array.dtype"
      ]
    },
    {
      "cell_type": "code",
      "execution_count": 100,
      "id": "51802814-9e9a-4f0f-baed-d1bf53b1af8f",
      "metadata": {
        "colab": {
          "base_uri": "https://localhost:8080/"
        },
        "id": "51802814-9e9a-4f0f-baed-d1bf53b1af8f",
        "outputId": "fe514c5f-b87f-4fca-dad6-7515ad94ee05"
      },
      "outputs": [
        {
          "output_type": "execute_result",
          "data": {
            "text/plain": [
              "torch.float32"
            ]
          },
          "metadata": {},
          "execution_count": 100
        }
      ],
      "source": [
        "torch.arange(1.0,8.0).dtype"
      ]
    },
    {
      "cell_type": "code",
      "execution_count": 101,
      "id": "1cac32df-2dab-44e9-ba24-467a95f582fc",
      "metadata": {
        "id": "1cac32df-2dab-44e9-ba24-467a95f582fc"
      },
      "outputs": [],
      "source": [
        "#numpy default float datatype is float64 and tht of torch is float 32"
      ]
    },
    {
      "cell_type": "code",
      "execution_count": 102,
      "id": "5a76179b-d223-4b75-b4a7-9822629afda1",
      "metadata": {
        "id": "5a76179b-d223-4b75-b4a7-9822629afda1"
      },
      "outputs": [],
      "source": [
        "#to change type\n",
        "tensor=torch.from_numpy(array).type(torch.float32)"
      ]
    },
    {
      "cell_type": "code",
      "execution_count": 103,
      "id": "269b65b3-95bc-4256-9069-32489d4a3e59",
      "metadata": {
        "colab": {
          "base_uri": "https://localhost:8080/"
        },
        "id": "269b65b3-95bc-4256-9069-32489d4a3e59",
        "outputId": "bfb37161-d122-4e65-97f9-9ab04b907e8c"
      },
      "outputs": [
        {
          "output_type": "execute_result",
          "data": {
            "text/plain": [
              "(tensor([1., 1., 1., 1., 1., 1., 1.]),\n",
              " array([1., 1., 1., 1., 1., 1., 1.], dtype=float32))"
            ]
          },
          "metadata": {},
          "execution_count": 103
        }
      ],
      "source": [
        "#tensor to numpy array\n",
        "tensor=torch.ones(7)\n",
        "numpy_tensor=tensor.numpy()\n",
        "tensor,numpy_tensor"
      ]
    },
    {
      "cell_type": "markdown",
      "id": "bbfc486e-ae23-4399-891e-4d1d2f1d050c",
      "metadata": {
        "id": "bbfc486e-ae23-4399-891e-4d1d2f1d050c"
      },
      "source": [
        "## REPRODUCBILITY(trying to take random out of random)\n",
        "How neural network learns:\n",
        "start with random numbers=> tensor operations=>update random numbers to try and make them of the data => again=>again=>again..\n",
        "### To reduce the randomness in neural networks and pytorch we used random seed\n",
        "### Essentially what random seed does is \"flavour \" the randomness"
      ]
    },
    {
      "cell_type": "code",
      "execution_count": 104,
      "id": "af813757-5035-454c-a5d4-7f92fc95d9d1",
      "metadata": {
        "colab": {
          "base_uri": "https://localhost:8080/"
        },
        "id": "af813757-5035-454c-a5d4-7f92fc95d9d1",
        "outputId": "2599032b-904f-4a70-ee38-e7c4b88693df"
      },
      "outputs": [
        {
          "output_type": "execute_result",
          "data": {
            "text/plain": [
              "tensor([[0.7734, 0.7432, 0.8951],\n",
              "        [0.0930, 0.7675, 0.3937],\n",
              "        [0.5184, 0.2733, 0.2548]])"
            ]
          },
          "metadata": {},
          "execution_count": 104
        }
      ],
      "source": [
        "torch.rand(3,3)#pseudo random ness or machine generated randomess"
      ]
    },
    {
      "cell_type": "code",
      "execution_count": 105,
      "id": "ec1e01c4-b81d-4a5d-b18d-cbc75c645271",
      "metadata": {
        "colab": {
          "base_uri": "https://localhost:8080/"
        },
        "id": "ec1e01c4-b81d-4a5d-b18d-cbc75c645271",
        "outputId": "19e9cbc6-b3ec-45cd-94ea-6091205e9dc4"
      },
      "outputs": [
        {
          "output_type": "stream",
          "name": "stdout",
          "text": [
            "tensor([[0.3887, 0.6445, 0.8726, 0.4105],\n",
            "        [0.1853, 0.1321, 0.2040, 0.4691],\n",
            "        [0.9311, 0.3010, 0.2365, 0.1975]])\n",
            "tensor([[0.4582, 0.2654, 0.6872, 0.5561],\n",
            "        [0.9982, 0.3941, 0.5519, 0.7638],\n",
            "        [0.8977, 0.7302, 0.2427, 0.0528]])\n",
            "tensor([[False, False, False, False],\n",
            "        [False, False, False, False],\n",
            "        [False, False, False, False]])\n"
          ]
        }
      ],
      "source": [
        "import torch\n",
        "# create two randome tensors\n",
        "r1=torch.rand(3,4)\n",
        "r2=torch.rand(3,4)\n",
        "print(r1)\n",
        "print(r2)\n",
        "print(r1==r2)"
      ]
    },
    {
      "cell_type": "code",
      "execution_count": 106,
      "id": "82c0f1ce-87c3-4935-b7bb-722d3b8bc455",
      "metadata": {
        "colab": {
          "base_uri": "https://localhost:8080/"
        },
        "id": "82c0f1ce-87c3-4935-b7bb-722d3b8bc455",
        "outputId": "6792c446-e76e-4f45-a9b1-642ddc610feb"
      },
      "outputs": [
        {
          "output_type": "execute_result",
          "data": {
            "text/plain": [
              "tensor([[True, True, True, True],\n",
              "        [True, True, True, True],\n",
              "        [True, True, True, True]])"
            ]
          },
          "metadata": {},
          "execution_count": 106
        }
      ],
      "source": [
        "# Lets make some random but reproducible tensors\n",
        "import torch\n",
        "\n",
        "# set the random seed\n",
        "RANDOM_SEED=42#CAN SET TO WATVER(DIFF FLAVOUR TO RANDOMNESS)\n",
        "torch.manual_seed(RANDOM_SEED)\n",
        "rand1=torch.rand(3,4)\n",
        "torch.manual_seed(RANDOM_SEED)#should cALL Bfr every tensor we want it to be similar\n",
        "rand2=torch.rand(3,4)\n",
        "rand1,rand2\n",
        "rand1==rand2"
      ]
    },
    {
      "cell_type": "markdown",
      "id": "f471c010-c3be-4d17-9513-0ae11735a7e8",
      "metadata": {
        "id": "f471c010-c3be-4d17-9513-0ae11735a7e8"
      },
      "source": [
        "## Running tensors and pytorch objects on the GPU'S (making the computations faster)\n",
        "#### GPUs=faster computations on numbers, thanks to CUDA+NVIDIA hardware+pytorch"
      ]
    },
    {
      "cell_type": "markdown",
      "id": "980aeec8-42e2-4760-aaf7-a95b28e105ce",
      "metadata": {
        "id": "980aeec8-42e2-4760-aaf7-a95b28e105ce"
      },
      "source": [
        "### 1.Getting a GPU\n",
        "1.use google collab from 1 free GPU"
      ]
    },
    {
      "cell_type": "code",
      "execution_count": 107,
      "id": "b9d413a8-2724-41e0-8abc-178b9c4449f7",
      "metadata": {
        "colab": {
          "base_uri": "https://localhost:8080/"
        },
        "id": "b9d413a8-2724-41e0-8abc-178b9c4449f7",
        "outputId": "240272d4-d9ff-477a-bfb1-dac72fa0f4f6"
      },
      "outputs": [
        {
          "output_type": "execute_result",
          "data": {
            "text/plain": [
              "True"
            ]
          },
          "metadata": {},
          "execution_count": 107
        }
      ],
      "source": [
        "torch.cuda.is_available()"
      ]
    },
    {
      "cell_type": "code",
      "execution_count": 108,
      "id": "5b56ff0b-7c5f-4a11-a40a-edb46bcf2649",
      "metadata": {
        "colab": {
          "base_uri": "https://localhost:8080/"
        },
        "id": "5b56ff0b-7c5f-4a11-a40a-edb46bcf2649",
        "outputId": "e3d6482b-3265-4a68-fcbc-8f3d1cba95d6"
      },
      "outputs": [
        {
          "output_type": "stream",
          "name": "stdout",
          "text": [
            "2.6.0+cu124\n",
            "True\n",
            "1\n",
            "Tesla T4\n"
          ]
        }
      ],
      "source": [
        "import torch\n",
        "print(torch.__version__)  # Check PyTorch version\n",
        "print(torch.cuda.is_available())  # Check if GPU is detected\n",
        "print(torch.cuda.device_count())  # Number of GPUs available\n",
        "print(torch.cuda.get_device_name(0) if torch.cuda.is_available() else \"No GPU found\")  # GPU name\n"
      ]
    },
    {
      "cell_type": "code",
      "execution_count": 109,
      "id": "2454df13-abfc-4c20-862f-d021742c8702",
      "metadata": {
        "colab": {
          "base_uri": "https://localhost:8080/"
        },
        "id": "2454df13-abfc-4c20-862f-d021742c8702",
        "outputId": "80675eb9-49fe-4855-f39f-4c585e970b3b"
      },
      "outputs": [
        {
          "output_type": "execute_result",
          "data": {
            "text/plain": [
              "device(type='cpu')"
            ]
          },
          "metadata": {},
          "execution_count": 109
        }
      ],
      "source": [
        "tensor=torch.tensor([1,2,3])\n",
        "tensor.device"
      ]
    },
    {
      "cell_type": "code",
      "source": [
        "tensor_gpu=tensor.to(device='cuda')\n",
        "tensor_gpu.device"
      ],
      "metadata": {
        "colab": {
          "base_uri": "https://localhost:8080/"
        },
        "id": "n1Raw-0TbwjM",
        "outputId": "9995dad0-0b33-4306-f087-9cc8eda443e3"
      },
      "id": "n1Raw-0TbwjM",
      "execution_count": 112,
      "outputs": [
        {
          "output_type": "execute_result",
          "data": {
            "text/plain": [
              "device(type='cuda', index=0)"
            ]
          },
          "metadata": {},
          "execution_count": 112
        }
      ]
    },
    {
      "cell_type": "code",
      "source": [
        "tensor_back_to_cpu=tensor_gpu.cpu().numpy()\n",
        "tensor_back_to_cpu.device#numpy doesnt work on gpu"
      ],
      "metadata": {
        "colab": {
          "base_uri": "https://localhost:8080/",
          "height": 36
        },
        "id": "NgINW7tLb3w5",
        "outputId": "2094bfe9-fb9f-472f-ca18-7f8ab874d3f0"
      },
      "id": "NgINW7tLb3w5",
      "execution_count": 114,
      "outputs": [
        {
          "output_type": "execute_result",
          "data": {
            "text/plain": [
              "'cpu'"
            ],
            "application/vnd.google.colaboratory.intrinsic+json": {
              "type": "string"
            }
          },
          "metadata": {},
          "execution_count": 114
        }
      ]
    },
    {
      "cell_type": "code",
      "source": [],
      "metadata": {
        "id": "BZK-2p2jcFiW"
      },
      "id": "BZK-2p2jcFiW",
      "execution_count": null,
      "outputs": []
    }
  ],
  "metadata": {
    "kernelspec": {
      "display_name": "Python 3",
      "name": "python3"
    },
    "language_info": {
      "codemirror_mode": {
        "name": "ipython",
        "version": 3
      },
      "file_extension": ".py",
      "mimetype": "text/x-python",
      "name": "python",
      "nbconvert_exporter": "python",
      "pygments_lexer": "ipython3",
      "version": "3.12.4"
    },
    "colab": {
      "provenance": [],
      "gpuType": "T4"
    },
    "accelerator": "GPU"
  },
  "nbformat": 4,
  "nbformat_minor": 5
}